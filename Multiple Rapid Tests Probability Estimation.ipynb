{
 "cells": [
  {
   "cell_type": "markdown",
   "id": "4970ed61",
   "metadata": {},
   "source": [
    "## Estimate Probabilities for each test"
   ]
  },
  {
   "cell_type": "markdown",
   "id": "fdc77c80",
   "metadata": {},
   "source": [
    "#### Notations\n",
    "\n",
    "**Hypothesis**\n",
    "\n",
    "Ho: Disease Free\n",
    "\n",
    "H1: Have Disease (SARS-CoV-2)\n",
    "\n",
    "**Outcomes**\n",
    "\n",
    "**+** : Positive test outcome\n",
    "\n",
    "**-** : Negative test outcome"
   ]
  },
  {
   "cell_type": "markdown",
   "id": "db8d150e",
   "metadata": {},
   "source": [
    "### Propability estimation maths"
   ]
  },
  {
   "cell_type": "markdown",
   "id": "dff707ba",
   "metadata": {},
   "source": [
    "#### 1st Test: Estimate the probability of has SARS-CoV-2 (H1) given a positive test (+)\n",
    "P(H1 | +) = P(+ | H1) * P(H1) / P(+) (Bayes Rule)\n",
    "\n",
    "P(H1) = 0.0186\\\n",
    "P(Ho) = 1 - P(H1)\\\n",
    "P(+ | H1) = Sensitivity\\\n",
    "P(+ | Ho) = 1-Specificity\\\n",
    "P(+) = TruePositive + FalsePositive = P(+ | H1)*P(H1) + P(+ | Ho)*P(Ho)\n",
    "\n",
    "Finally\\\n",
    "P(H1 | +) = 0.9945\n",
    "\n",
    "-----------------------\n",
    "\n",
    "#### 2nd Test: Estimate the probability of has SARS-CoV-2 (H1) given a negative test (-)\n",
    "P(H1 | -) = P(- | H1) * P(H1) / P(-) (Bayes Rule)\n",
    "\n",
    "P(H1) = 0.645 (Previous test probability)\\\n",
    "P(Ho) = 1 - P(H1)\\\n",
    "P(- | H1) = 1 - Sensitivity\\\n",
    "P(- | Ho) = 1 - P(+ | Ho) = 1 - (1-Specificity) = Specificity\\\n",
    "P(-) = TrueNegative + FalseNegative = P(- | Ho)*P(Ho) + P(- | H1)*P(H1)\n",
    "\n",
    "Finally\\\n",
    "P(- | Ho) = 0.8760\n",
    "\n",
    "etc ..."
   ]
  },
  {
   "cell_type": "code",
   "execution_count": null,
   "id": "de068fde",
   "metadata": {},
   "outputs": [],
   "source": [
    "def estimate_has_covid_given_positive_test(specificity, sensitivity, P_H1):\n",
    "    \"\"\"\n",
    "    * Hypothesis: Has SARS-CoV-2 (H1)\n",
    "    * Test Outcome: Positive (+)\n",
    "    * Formula: P(H1 | +) = P(+ | H1) * P(H1) / P(+) (Bayes Rule)\n",
    "    \"\"\"\n",
    "    P_evidence = sensitivity*P_H1 + (1-specificity)*(1-P_H1)\n",
    "    return sensitivity * P_H1 / P_evidence\n",
    "\n",
    "\n",
    "def estimate_has_covid_given_negative_test(specificity, sensitivity, P_H1):\n",
    "    \"\"\"\n",
    "    * Hypothesis: Has SARS-CoV-2 (H1)\n",
    "    * Test Outcome: Negative (-)\n",
    "    * Formula: P(H1 | -) = P(- | H1) * P(H1) / P(-) (Bayes Rule)\n",
    "    \"\"\"\n",
    "    P_evidence = specificity*(1-P_H1) + (1-sensitivity)*P_H1\n",
    "    return (1-sensitivity)*P_H1 / P_evidence\n",
    "\n",
    "def run_multiple_negative_tests(specificity, sensitivity, number_of_tests, P_H1):\n",
    "    results = []\n",
    "    for _ in range(number_of_tests):\n",
    "        P_H1 = estimate_has_covid_given_negative_test(specificity, sensitivity, P_H1)\n",
    "        results.append(P_H1)\n",
    "    return results\n"
   ]
  },
  {
   "cell_type": "code",
   "execution_count": null,
   "id": "505cedac",
   "metadata": {},
   "outputs": [],
   "source": [
    "specificity = 0.9999\n",
    "sensitivity = 0.9706\n",
    "P_H1 = 0.0186 # Initial prior probability --> Population prevelence\n",
    "\n",
    "\n",
    "positive_test = estimate_has_covid_given_positive_test(specificity, sensitivity, P_H1)\n",
    "negative_tests = run_multiple_negative_tests(specificity, sensitivity, number_of_tests=3, P_H1=positive_test)"
   ]
  },
  {
   "cell_type": "code",
   "execution_count": null,
   "id": "5be8b070",
   "metadata": {
    "scrolled": false
   },
   "outputs": [],
   "source": [
    "import plotly.express as px\n",
    "\n",
    "test_cases = ['Test 1: +', 'Test 2: -', 'Test 3: -', 'Test 4: -']\n",
    "test_results = [positive_test] + negative_tests\n",
    "test_results_prc = [p*100 for p in test_results]\n",
    "fig = px.bar(x=test_cases,\n",
    "             y=test_results_prc,\n",
    "             title='Rapid Tests Probability Evolution (Ideal Lab Circumstances)',\n",
    "             text_auto=True,\n",
    "             template='plotly_dark')\n",
    "\n",
    "fig.update_xaxes(title_text='Rapid Tests Outcomes')\n",
    "fig.update_yaxes(title_text='Probability to has SARS-CoV-2 (%)')\n",
    "fig.show()"
   ]
  },
  {
   "cell_type": "markdown",
   "id": "ec38077a",
   "metadata": {},
   "source": [
    "## Point-of-care Tests\n",
    "Rapid tests which performed out of Laboratory. For example pharmacies, homes etc."
   ]
  },
  {
   "cell_type": "markdown",
   "id": "f32d998b",
   "metadata": {},
   "source": [
    "```\n",
    "Realistic Sensitivity = 0.789\n",
    "```\n",
    "\n",
    "Source: https://www.healthline.com/health/how-accurate-are-rapid-covid-tests"
   ]
  },
  {
   "cell_type": "markdown",
   "id": "1a5f0d1d",
   "metadata": {},
   "source": [
    "Re-estimate the probability after the four tests"
   ]
  },
  {
   "cell_type": "code",
   "execution_count": null,
   "id": "ca3c6e4d",
   "metadata": {},
   "outputs": [],
   "source": [
    "specificity = 0.9999\n",
    "sensitivity = 0.789\n",
    "P_H1 = 0.0186 # Initial prior probability --> Population prevelence\n",
    "\n",
    "\n",
    "positive_test = estimate_has_covid_given_positive_test(specificity, sensitivity, P_H1)\n",
    "negative_tests = run_multiple_negative_tests(specificity, sensitivity, number_of_tests=3, P_H1=positive_test)\n",
    "\n",
    "test_cases = ['Test 1: +', 'Test 2: -', 'Test 3: -', 'Test 4: -']\n",
    "test_results = [positive_test] + negative_tests\n",
    "test_results_prc = [p*100 for p in test_results]\n",
    "fig = px.bar(x=test_cases,\n",
    "             y=test_results_prc,\n",
    "             title='Rapid Tests Realistic Probability Evolution (Tested in a Point-of-Care)',\n",
    "             text_auto=True,\n",
    "             template='plotly_dark')\n",
    "\n",
    "fig.update_xaxes(title_text='Rapid Tests Outcomes')\n",
    "fig.update_yaxes(title_text='Probability to has SARS-CoV-2 (%)')\n",
    "fig.show()"
   ]
  },
  {
   "cell_type": "code",
   "execution_count": null,
   "id": "0d566507",
   "metadata": {},
   "outputs": [],
   "source": [
    "P_H1 = 0.0186 # Initial prior probability --> Population prevelence\n",
    "sensitivity = 0.9706\n",
    "sensitivity_values = [sensitivity - 0.02*i for i in range(25)]\n",
    "\n",
    "positive_test_values = []\n",
    "for sensitivity in sensitivity_values:\n",
    "    # 1st + Test\n",
    "    positive_test = estimate_has_covid_given_positive_test(specificity, sensitivity, P_H1)\n",
    "    # 3 - Tests\n",
    "    negative_tests = run_multiple_negative_tests(specificity, sensitivity, number_of_tests=3, P_H1=positive_test)\n",
    "\n",
    "    last_test_result = negative_tests[-1]\n",
    "    positive_test_values.append(last_test_result)\n",
    "\n",
    "sensitivity_values_prc = [p*100 for p in sensitivity_values]\n",
    "positive_test_values_prc = [p*100 for p in positive_test_values]\n",
    "fig = px.line(x=sensitivity_values_prc,\n",
    "              y=positive_test_values_prc,\n",
    "             title='Rapid Test Sensitivity VS Has SARS-CoV-2 Probability',\n",
    "             template='plotly_dark')\n",
    "\n",
    "fig.update_xaxes(title_text='Rapid Test Sensitivity (%)')\n",
    "fig.update_yaxes(title_text='Probability of having SARS-CoV-2 (%)')\n",
    "fig.add_vline(x=97.06, line_width=3, line_dash=\"dash\", line_color=\"green\")\n",
    "fig.add_vline(x=78.9, line_width=3, line_dash=\"dash\", line_color=\"red\")\n",
    "fig.show()"
   ]
  },
  {
   "cell_type": "markdown",
   "id": "ffba53f0",
   "metadata": {},
   "source": [
    "\n",
    "## Estimate again the probability of being infected with only negative outocomes"
   ]
  },
  {
   "cell_type": "code",
   "execution_count": null,
   "id": "22b4454a",
   "metadata": {},
   "outputs": [],
   "source": [
    "P_H1 = 0.0186 # Initial prior probability --> Population prevelence\n",
    "specificity = 0.9999\n",
    "sensitivity = 0.789\n",
    "number_of_tests=4\n",
    "\n",
    "negative_tests = run_multiple_negative_tests(specificity, sensitivity, number_of_tests=number_of_tests, P_H1=P_H1)"
   ]
  },
  {
   "cell_type": "code",
   "execution_count": null,
   "id": "b63ba559",
   "metadata": {},
   "outputs": [],
   "source": [
    "import plotly.express as px\n",
    "\n",
    "test_cases = ['Test 1: -', 'Test 2: -', 'Test 3: -', 'Test 4: -']\n",
    "test_results_prc = [p*100 for p in negative_tests]\n",
    "fig = px.bar(x=test_cases,\n",
    "             y=test_results_prc,\n",
    "             title='Probability of having SARS-CoV-2 after multiple negative Tests (Without any positive outcome)',\n",
    "             text_auto=True,\n",
    "             template='plotly_dark')\n",
    "\n",
    "fig.update_xaxes(title_text='Rapid Tests Outcomes')\n",
    "fig.update_yaxes(title_text='Probability of having SARS-CoV-2 (%)')\n",
    "fig.show()"
   ]
  }
 ],
 "metadata": {
  "kernelspec": {
   "display_name": "Python 3",
   "language": "python",
   "name": "python3"
  },
  "language_info": {
   "codemirror_mode": {
    "name": "ipython",
    "version": 3
   },
   "file_extension": ".py",
   "mimetype": "text/x-python",
   "name": "python",
   "nbconvert_exporter": "python",
   "pygments_lexer": "ipython3",
   "version": "3.6.5"
  }
 },
 "nbformat": 4,
 "nbformat_minor": 5
}
